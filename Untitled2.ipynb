{
 "cells": [
  {
   "cell_type": "code",
   "execution_count": 4,
   "metadata": {},
   "outputs": [
    {
     "name": "stdout",
     "output_type": "stream",
     "text": [
      "Help on function blend_palette in module seaborn.palettes:\n",
      "\n",
      "blend_palette(colors, n_colors=6, as_cmap=False, input='rgb')\n",
      "    Make a palette that blends between a list of colors.\n",
      "    \n",
      "    Parameters\n",
      "    ----------\n",
      "    colors : sequence of colors in various formats interpreted by ``input``\n",
      "        hex code, html color name, or tuple in ``input`` space.\n",
      "    n_colors : int, optional\n",
      "        Number of colors in the palette.\n",
      "    as_cmap : bool, optional\n",
      "        If True, return as a matplotlib colormap instead of list.\n",
      "    \n",
      "    Returns\n",
      "    -------\n",
      "    palette or cmap : seaborn color palette or matplotlib colormap\n",
      "        List-like object of colors as RGB tuples, or colormap object that\n",
      "        can map continuous values to colors, depending on the value of the\n",
      "        ``as_cmap`` parameter.\n",
      "\n"
     ]
    }
   ],
   "source": [
    "import seaborn as sns\n",
    "help(sns.blend_palette)\n"
   ]
  }
 ],
 "metadata": {
  "kernelspec": {
   "display_name": "Python 3",
   "language": "python",
   "name": "python3"
  },
  "language_info": {
   "codemirror_mode": {
    "name": "ipython",
    "version": 3
   },
   "file_extension": ".py",
   "mimetype": "text/x-python",
   "name": "python",
   "nbconvert_exporter": "python",
   "pygments_lexer": "ipython3",
   "version": "3.7.3"
  },
  "toc": {
   "base_numbering": 1,
   "nav_menu": {},
   "number_sections": true,
   "sideBar": true,
   "skip_h1_title": false,
   "title_cell": "Table of Contents",
   "title_sidebar": "Contents",
   "toc_cell": false,
   "toc_position": {},
   "toc_section_display": true,
   "toc_window_display": false
  },
  "varInspector": {
   "cols": {
    "lenName": 16,
    "lenType": 16,
    "lenVar": 40
   },
   "kernels_config": {
    "python": {
     "delete_cmd_postfix": "",
     "delete_cmd_prefix": "del ",
     "library": "var_list.py",
     "varRefreshCmd": "print(var_dic_list())"
    },
    "r": {
     "delete_cmd_postfix": ") ",
     "delete_cmd_prefix": "rm(",
     "library": "var_list.r",
     "varRefreshCmd": "cat(var_dic_list()) "
    }
   },
   "types_to_exclude": [
    "module",
    "function",
    "builtin_function_or_method",
    "instance",
    "_Feature"
   ],
   "window_display": false
  }
 },
 "nbformat": 4,
 "nbformat_minor": 2
}
